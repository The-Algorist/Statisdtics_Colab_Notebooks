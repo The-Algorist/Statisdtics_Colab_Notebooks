{
  "cells": [
    {
      "cell_type": "markdown",
      "metadata": {
        "id": "view-in-github",
        "colab_type": "text"
      },
      "source": [
        "<a href=\"https://colab.research.google.com/github/The-Algorist/Statistics_Colab_Notebooks/blob/main/notebook.ipynb\" target=\"_parent\"><img src=\"https://colab.research.google.com/assets/colab-badge.svg\" alt=\"Open In Colab\"/></a>"
      ]
    },
    {
      "cell_type": "markdown",
      "metadata": {
        "id": "Txg4ZA87wrsf"
      },
      "source": []
    },
    {
      "cell_type": "markdown",
      "metadata": {
        "id": "cdP9a4Qj96IL"
      },
      "source": [
        "## 1. **Business Understanding**\n",
        "\n",
        "### Overview\n",
        "\n",
        "SentimentFlow aims to address a real-world problem related to understanding public sentiment towards Apple and Google products on Twitter. The stakeholders include companies, marketing teams, and decision-makers who want to gauge public opinion and make informed strategic decisions based on social media sentiment.\n",
        "\n",
        "### Problem Statement\n",
        "\n",
        "The problem is to accurately classify the sentiment of tweets related to Apple and Google products. We want to determine whether a tweet expresses a positive, negative, or neutral sentiment. This classification can help companies understand customer satisfaction, identify potential issues, and tailor their responses accordingly.\n",
        "\n",
        "### Objectives\n",
        "\n",
        "Main Objective\n",
        "\n",
        "> To develop a NLP (Natural Language Processing) multiclass classification model for sentiment analysis, aim to achieve a recall score of 80% and an accuracy of 80%. The model should categorize sentiments into three classes: Positive, Negative, and Neutral.\n",
        "\n",
        "Specific Objectives\n",
        "\n",
        "* To idenitfy the most common words used in the dataset using Word cloud.\n",
        "\n",
        "* To confirm the most common words that are positively and negatively tagged.\n",
        "\n",
        "* To recognize the products that have been opined by the users.\n",
        "\n",
        "* To spot the distribution of the sentiments."
      ]
    },
    {
      "cell_type": "markdown",
      "metadata": {
        "id": "dCRCaKYDx9xk"
      },
      "source": [
        "## 2. **Data Understanding**\n",
        "\n",
        "### Data Sources\n",
        "The dataset originates from CrowdFlower via data.world. Contributors evaluated tweets related to various brands and products. Specifically:\n",
        "- Each tweet was labeled as expressing positive, negative, or no emotion toward a brand or product.\n",
        "- If emotion was expressed, contributors specified which brand or product was the target.\n",
        "\n",
        "### Suitability of Data\n",
        "Here's why this dataset is suitable for our project:\n",
        "1. **Relevance:** The data directly aligns with our business problem of understanding Twitter sentiment for Apple and Google products.\n",
        "2. **Real-World Context:** The tweets represent actual user opinions, making the problem relevant in practice.\n",
        "3. **Multiclass Labels:** We can build both binary (positive/negative) and multiclass (positive/negative/neutral) classifiers using this data.\n",
        "\n",
        "### Dataset Size\n",
        "The dataset contains over 9,000 labeled tweets. We'll explore its features to gain insights.\n",
        "\n",
        "### Descriptive Statistics\n",
        "- **tweet_text:** The content of each tweet.\n",
        "- **is_there_an_emotion_directed_at_a_brand_or_product:** No emotion toward brand or product, Positive emotion, Negative emotion, I can't tell\n",
        "- **emotion_in_tweet_is_directed_at:** The brand or product mentioned in the tweet.\n",
        "\n",
        "### Feature Inclusion\n",
        "Tweet text is the primary feature. The emotion label and target brand/product are essential for classification.\n",
        "\n",
        "### Limitations\n",
        "- **Label Noise:** Human raters' subjectivity may introduce noise.\n",
        "- **Imbalanced Classes:** We'll address class imbalance during modeling.\n",
        "- **Contextual Challenges:** Tweets are often short and context-dependent.\n",
        "- **Incomplete & Missing Data:** Could affect the overall performance of the models."
      ]
    },
    {
      "cell_type": "code",
      "execution_count": null,
      "metadata": {
        "colab": {
          "base_uri": "https://localhost:8080/"
        },
        "id": "vwq-ZFNxyS-N",
        "outputId": "02e5af0f-7c88-4f3f-adaa-337323eb80fd"
      },
      "outputs": [
        {
          "name": "stdout",
          "output_type": "stream",
          "text": [
            "Requirement already satisfied: wordcloud in c:\\users\\user\\anaconda3\\envs\\learn-env\\lib\\site-packages (1.9.3)\n",
            "Requirement already satisfied: numpy>=1.6.1 in c:\\users\\user\\anaconda3\\envs\\learn-env\\lib\\site-packages (from wordcloud) (2.0.0)\n",
            "Requirement already satisfied: pillow in c:\\users\\user\\anaconda3\\envs\\learn-env\\lib\\site-packages (from wordcloud) (10.4.0)\n",
            "Requirement already satisfied: matplotlib in c:\\users\\user\\anaconda3\\envs\\learn-env\\lib\\site-packages (from wordcloud) (3.9.1)\n",
            "Requirement already satisfied: contourpy>=1.0.1 in c:\\users\\user\\anaconda3\\envs\\learn-env\\lib\\site-packages (from matplotlib->wordcloud) (1.2.1)\n",
            "Requirement already satisfied: cycler>=0.10 in c:\\users\\user\\anaconda3\\envs\\learn-env\\lib\\site-packages (from matplotlib->wordcloud) (0.12.1)\n",
            "Requirement already satisfied: fonttools>=4.22.0 in c:\\users\\user\\anaconda3\\envs\\learn-env\\lib\\site-packages (from matplotlib->wordcloud) (4.53.1)\n",
            "Requirement already satisfied: kiwisolver>=1.3.1 in c:\\users\\user\\anaconda3\\envs\\learn-env\\lib\\site-packages (from matplotlib->wordcloud) (1.4.5)\n",
            "Requirement already satisfied: packaging>=20.0 in c:\\users\\user\\anaconda3\\envs\\learn-env\\lib\\site-packages (from matplotlib->wordcloud) (24.0)\n",
            "Requirement already satisfied: pyparsing>=2.3.1 in c:\\users\\user\\anaconda3\\envs\\learn-env\\lib\\site-packages (from matplotlib->wordcloud) (3.1.2)\n",
            "Requirement already satisfied: python-dateutil>=2.7 in c:\\users\\user\\anaconda3\\envs\\learn-env\\lib\\site-packages (from matplotlib->wordcloud) (2.9.0)\n",
            "Requirement already satisfied: six>=1.5 in c:\\users\\user\\anaconda3\\envs\\learn-env\\lib\\site-packages (from python-dateutil>=2.7->matplotlib->wordcloud) (1.16.0)\n"
          ]
        }
      ],
      "source": [
        "!pip install wordcloud"
      ]
    },
    {
      "cell_type": "code",
      "execution_count": null,
      "metadata": {
        "colab": {
          "base_uri": "https://localhost:8080/"
        },
        "id": "uJiasm44x9cS",
        "outputId": "dc16ad40-0370-4499-f37a-6c4fefc52163"
      },
      "outputs": [
        {
          "name": "stderr",
          "output_type": "stream",
          "text": [
            "[nltk_data] Downloading package stopwords to\n",
            "[nltk_data]     C:\\Users\\user\\AppData\\Roaming\\nltk_data...\n",
            "[nltk_data]   Package stopwords is already up-to-date!\n",
            "[nltk_data] Downloading package wordnet to\n",
            "[nltk_data]     C:\\Users\\user\\AppData\\Roaming\\nltk_data...\n",
            "[nltk_data]   Package wordnet is already up-to-date!\n",
            "[nltk_data] Downloading package averaged_perceptron_tagger to\n",
            "[nltk_data]     C:\\Users\\user\\AppData\\Roaming\\nltk_data...\n",
            "[nltk_data]   Package averaged_perceptron_tagger is already up-to-\n",
            "[nltk_data]       date!\n"
          ]
        }
      ],
      "source": [
        "# Data manipulation\n",
        "import pandas as pd\n",
        "import numpy as np\n",
        "\n",
        "# plotting\n",
        "import seaborn as sns\n",
        "from wordcloud import WordCloud\n",
        "import matplotlib.pyplot as plt\n",
        "\n",
        "# nltk\n",
        "import re\n",
        "import string\n",
        "import nltk\n",
        "from nltk.corpus import stopwords\n",
        "from nltk.probability import FreqDist\n",
        "from nltk.stem import WordNetLemmatizer\n",
        "\n",
        "\n",
        "# Download required NLTK data\n",
        "nltk.download('stopwords')\n",
        "nltk.download('wordnet')\n",
        "nltk.download('averaged_perceptron_tagger')\n",
        "\n",
        "# sklearn\n",
        "from sklearn.svm import SVC\n",
        "from sklearn.svm import LinearSVC\n",
        "from imblearn.over_sampling import SMOTE\n",
        "from sklearn.naive_bayes import BernoulliNB\n",
        "from sklearn.preprocessing import LabelEncoder\n",
        "\n",
        "from sklearn.linear_model import LogisticRegression\n",
        "from sklearn.ensemble import RandomForestClassifier\n",
        "from sklearn.model_selection import train_test_split,cross_val_score\n",
        "\n",
        "from sklearn.naive_bayes import MultinomialNB\n",
        "\n",
        "from sklearn.model_selection import GridSearchCV\n",
        "from sklearn.metrics import confusion_matrix, classification_report, accuracy_score, recall_score\n",
        "\n",
        "from sklearn.feature_extraction.text import TfidfVectorizer, CountVectorizer\n",
        "from sklearn.model_selection import GridSearchCV\n",
        "from sklearn.tree import DecisionTreeClassifier\n",
        "from scipy.sparse import csr_matrix\n",
        "from scipy.sparse import issparse\n",
        "\n",
        "# wordCloud\n",
        "from wordcloud import WordCloud\n",
        "\n",
        "# pickle\n",
        "import pickle\n",
        "\n",
        "# Ignore warnings\n",
        "import warnings\n",
        "warnings.filterwarnings('ignore')"
      ]
    },
    {
      "cell_type": "markdown",
      "metadata": {
        "id": "xQQIS-nTwp63"
      },
      "source": [
        "Class creation"
      ]
    },
    {
      "cell_type": "code",
      "execution_count": null,
      "metadata": {
        "id": "DN6OnxqR4WF4"
      },
      "outputs": [],
      "source": [
        "class DataUnderstanding():\n",
        "    \"\"\"Class that gives the data understanding of a dataset\"\"\"\n",
        "    def __init__(self, data='None'):\n",
        "        \"\"\"Initialisation\"\"\"\n",
        "        self.df = data\n",
        "\n",
        "    def load_data(self, path):\n",
        "        \"\"\"Loading the data\"\"\"\n",
        "        if self.df == 'None':\n",
        "            self.df = pd.read_csv(path, encoding='latin-1')\n",
        "        return self.df\n",
        "\n",
        "    def understanding(self):\n",
        "        # Info\n",
        "        print(\"\"\"INFO\"\"\")\n",
        "        print(\"-\"*4)\n",
        "        self.df.info()\n",
        "\n",
        "        # Shape\n",
        "        print(\"\"\"\\n\\nSHAPE\"\"\")\n",
        "        print(\"-\"*5)\n",
        "        print(f\"Records in dataset are {self.df.shape[0]} with {self.df.shape[1]} columns.\")\n",
        "\n",
        "        # Columns\n",
        "        print(\"\\n\\nCOLUMNS\")\n",
        "        print(\"-\"*6)\n",
        "        print(f\"Columns in the dataset are:\")\n",
        "        for idx in self.df.columns:\n",
        "            print(f\"- {idx}\")\n",
        "\n",
        "        # Unique Values\n",
        "        print(\"\\n\\nUNIQUE VALUES\")\n",
        "        print(\"-\"*12)\n",
        "        for col in self.df.columns:\n",
        "            print(f\"Column *{col}* has {self.df[col].nunique()} unique values\")\n",
        "            if self.df[col].nunique() < 12:\n",
        "                print(f\"Top unique values in the *{col}* include:\")\n",
        "                for idx in self.df[col].value_counts().index:\n",
        "                    print(f\"- {idx}\")\n",
        "            print(\"\")\n",
        "\n",
        "        # Missing or Null Values\n",
        "        print(\"\"\"\\nMISSING VALUES\"\"\")\n",
        "        print(\"-\"*15)\n",
        "        for col in self.df.columns:\n",
        "            print(f\"Column *{col}* has {self.df[col].isnull().sum()} missing values.\")\n",
        "\n",
        "        # Duplicate Values\n",
        "        print(\"\"\"\\n\\nDUPLICATE VALUES\"\"\")\n",
        "        print(\"-\"*16)\n",
        "        print(f\"The dataset has {self.df.duplicated().sum()} duplicated records.\")"
      ]
    },
    {
      "cell_type": "markdown",
      "metadata": {
        "id": "MS5lh4mQ4WF6"
      },
      "source": [
        "# Loading the dataset"
      ]
    },
    {
      "cell_type": "code",
      "execution_count": null,
      "metadata": {
        "id": "j_ZwoNTE4WF6",
        "outputId": "475b0a01-0b78-4b64-a712-05beda481cce"
      },
      "outputs": [
        {
          "data": {
            "text/html": [
              "<div>\n",
              "<style scoped>\n",
              "    .dataframe tbody tr th:only-of-type {\n",
              "        vertical-align: middle;\n",
              "    }\n",
              "\n",
              "    .dataframe tbody tr th {\n",
              "        vertical-align: top;\n",
              "    }\n",
              "\n",
              "    .dataframe thead th {\n",
              "        text-align: right;\n",
              "    }\n",
              "</style>\n",
              "<table border=\"1\" class=\"dataframe\">\n",
              "  <thead>\n",
              "    <tr style=\"text-align: right;\">\n",
              "      <th></th>\n",
              "      <th>tweet_text</th>\n",
              "      <th>emotion_in_tweet_is_directed_at</th>\n",
              "      <th>is_there_an_emotion_directed_at_a_brand_or_product</th>\n",
              "    </tr>\n",
              "  </thead>\n",
              "  <tbody>\n",
              "    <tr>\n",
              "      <th>0</th>\n",
              "      <td>.@wesley83 I have a 3G iPhone. After 3 hrs twe...</td>\n",
              "      <td>iPhone</td>\n",
              "      <td>Negative emotion</td>\n",
              "    </tr>\n",
              "    <tr>\n",
              "      <th>1</th>\n",
              "      <td>@jessedee Know about @fludapp ? Awesome iPad/i...</td>\n",
              "      <td>iPad or iPhone App</td>\n",
              "      <td>Positive emotion</td>\n",
              "    </tr>\n",
              "    <tr>\n",
              "      <th>2</th>\n",
              "      <td>@swonderlin Can not wait for #iPad 2 also. The...</td>\n",
              "      <td>iPad</td>\n",
              "      <td>Positive emotion</td>\n",
              "    </tr>\n",
              "    <tr>\n",
              "      <th>3</th>\n",
              "      <td>@sxsw I hope this year's festival isn't as cra...</td>\n",
              "      <td>iPad or iPhone App</td>\n",
              "      <td>Negative emotion</td>\n",
              "    </tr>\n",
              "    <tr>\n",
              "      <th>4</th>\n",
              "      <td>@sxtxstate great stuff on Fri #SXSW: Marissa M...</td>\n",
              "      <td>Google</td>\n",
              "      <td>Positive emotion</td>\n",
              "    </tr>\n",
              "  </tbody>\n",
              "</table>\n",
              "</div>"
            ],
            "text/plain": [
              "                                          tweet_text  \\\n",
              "0  .@wesley83 I have a 3G iPhone. After 3 hrs twe...   \n",
              "1  @jessedee Know about @fludapp ? Awesome iPad/i...   \n",
              "2  @swonderlin Can not wait for #iPad 2 also. The...   \n",
              "3  @sxsw I hope this year's festival isn't as cra...   \n",
              "4  @sxtxstate great stuff on Fri #SXSW: Marissa M...   \n",
              "\n",
              "  emotion_in_tweet_is_directed_at  \\\n",
              "0                          iPhone   \n",
              "1              iPad or iPhone App   \n",
              "2                            iPad   \n",
              "3              iPad or iPhone App   \n",
              "4                          Google   \n",
              "\n",
              "  is_there_an_emotion_directed_at_a_brand_or_product  \n",
              "0                                   Negative emotion  \n",
              "1                                   Positive emotion  \n",
              "2                                   Positive emotion  \n",
              "3                                   Negative emotion  \n",
              "4                                   Positive emotion  "
            ]
          },
          "execution_count": 4,
          "metadata": {},
          "output_type": "execute_result"
        }
      ],
      "source": [
        "# Load the dataset\n",
        "data = DataUnderstanding()\n",
        "df = data.load_data(path=\"judge-1377884607_tweet_product_company.csv\")\n",
        "# First five rows of dataset\n",
        "df.head()"
      ]
    },
    {
      "cell_type": "code",
      "execution_count": null,
      "metadata": {
        "id": "pc9pe5Gw4WF8",
        "outputId": "4917a142-42d2-41a5-9aee-d88d05609499"
      },
      "outputs": [
        {
          "name": "stdout",
          "output_type": "stream",
          "text": [
            "INFO\n",
            "----\n",
            "<class 'pandas.core.frame.DataFrame'>\n",
            "RangeIndex: 9093 entries, 0 to 9092\n",
            "Data columns (total 3 columns):\n",
            " #   Column                                              Non-Null Count  Dtype \n",
            "---  ------                                              --------------  ----- \n",
            " 0   tweet_text                                          9092 non-null   object\n",
            " 1   emotion_in_tweet_is_directed_at                     3291 non-null   object\n",
            " 2   is_there_an_emotion_directed_at_a_brand_or_product  9093 non-null   object\n",
            "dtypes: object(3)\n",
            "memory usage: 213.2+ KB\n",
            "\n",
            "\n",
            "SHAPE\n",
            "-----\n",
            "Records in dataset are 9093 with 3 columns.\n",
            "\n",
            "\n",
            "COLUMNS\n",
            "------\n",
            "Columns in the dataset are:\n",
            "- tweet_text\n",
            "- emotion_in_tweet_is_directed_at\n",
            "- is_there_an_emotion_directed_at_a_brand_or_product\n",
            "\n",
            "\n",
            "UNIQUE VALUES\n",
            "------------\n",
            "Column *tweet_text* has 9065 unique values\n",
            "\n",
            "Column *emotion_in_tweet_is_directed_at* has 9 unique values\n",
            "Top unique values in the *emotion_in_tweet_is_directed_at* include:\n",
            "- iPad\n",
            "- Apple\n",
            "- iPad or iPhone App\n",
            "- Google\n",
            "- iPhone\n",
            "- Other Google product or service\n",
            "- Android App\n",
            "- Android\n",
            "- Other Apple product or service\n",
            "\n",
            "Column *is_there_an_emotion_directed_at_a_brand_or_product* has 4 unique values\n",
            "Top unique values in the *is_there_an_emotion_directed_at_a_brand_or_product* include:\n",
            "- No emotion toward brand or product\n",
            "- Positive emotion\n",
            "- Negative emotion\n",
            "- I can't tell\n",
            "\n",
            "\n",
            "MISSING VALUES\n",
            "---------------\n",
            "Column *tweet_text* has 1 missing values.\n",
            "Column *emotion_in_tweet_is_directed_at* has 5802 missing values.\n",
            "Column *is_there_an_emotion_directed_at_a_brand_or_product* has 0 missing values.\n",
            "\n",
            "\n",
            "DUPLICATE VALUES\n",
            "----------------\n",
            "The dataset has 22 duplicated records.\n"
          ]
        }
      ],
      "source": [
        "data.understanding()"
      ]
    },
    {
      "cell_type": "code",
      "execution_count": null,
      "metadata": {
        "id": "2sUE27Z74WF8"
      },
      "outputs": [],
      "source": []
    }
  ],
  "metadata": {
    "colab": {
      "provenance": [],
      "include_colab_link": true
    },
    "kernelspec": {
      "display_name": "Python (learn-env)",
      "language": "python",
      "name": "learn-env"
    },
    "language_info": {
      "codemirror_mode": {
        "name": "ipython",
        "version": 3
      },
      "file_extension": ".py",
      "mimetype": "text/x-python",
      "name": "python",
      "nbconvert_exporter": "python",
      "pygments_lexer": "ipython3",
      "version": "3.11.7"
    }
  },
  "nbformat": 4,
  "nbformat_minor": 0
}